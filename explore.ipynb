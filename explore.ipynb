{
 "cells": [
  {
   "cell_type": "markdown",
   "id": "7aa7a4f4",
   "metadata": {},
   "source": [
    "## Setup"
   ]
  },
  {
   "cell_type": "code",
   "execution_count": 1,
   "id": "44b3ac39",
   "metadata": {},
   "outputs": [],
   "source": [
    "from sqlalchemy import create_engine, text\n",
    "from sqlalchemy.exc import SQLAlchemyError\n",
    "from sqlalchemy.engine import Engine\n",
    "from data_setup import create_connection\n",
    "from typing import List, Tuple, Dict, Optional\n",
    "import matplotlib.pyplot as plt\n",
    "import pandas as pd\n",
    "import seaborn as sns\n"
   ]
  },
  {
   "cell_type": "code",
   "execution_count": 2,
   "id": "1055692a",
   "metadata": {},
   "outputs": [],
   "source": [
    "def load_data(engine: Engine) -> Tuple[pd.DataFrame, pd.DataFrame, pd.DataFrame, pd.DataFrame]:\n",
    "    \"\"\"\n",
    "    Loads data from tables as pd dataframes\n",
    "    \"\"\"\n",
    "    with engine.connect() as conn:\n",
    "        listings_df = pd.read_sql(\"SELECT * from listings\", conn)\n",
    "        neighborhood_df = pd.read_sql(\"SELECT * from neighborhoods\", conn)\n",
    "        groups_df = pd.read_sql(\"SELECT * from neighborhoodgroups\", conn)\n",
    "        review_df = pd.read_sql(\"SELECT * from reviews\", conn)\n",
    "    return listings_df, neighborhood_df, groups_df, review_df\n"
   ]
  },
  {
   "cell_type": "code",
   "execution_count": 3,
   "id": "95e562b8",
   "metadata": {},
   "outputs": [],
   "source": [
    "engine = create_connection()\n",
    "listings_df, neighborhood_df, groups_df, review_df = load_data(engine)"
   ]
  },
  {
   "cell_type": "code",
   "execution_count": 4,
   "id": "f2adcdf2",
   "metadata": {},
   "outputs": [],
   "source": [
    "def execute_query(query):\n",
    "    with engine.connect() as conn:\n",
    "        query_result = pd.read_sql(query,conn)\n",
    "    return query_result\n"
   ]
  },
  {
   "cell_type": "code",
   "execution_count": 5,
   "id": "1d16a201",
   "metadata": {},
   "outputs": [],
   "source": [
    "#Neighborhood-centered queries\n",
    "\n",
    "#  neighborhood group vs price\n",
    "price_group = \"\"\"SELECT G.group_name, L.price \n",
    "FROM listings L \n",
    "JOIN neighborhoodgroups G ON L.neighbourhood_group_id = G.group_id \n",
    "WHERE L.price IS NOT NULL \n",
    "ORDER BY G.group_name\"\"\"\n",
    "\n",
    "#number of listings per neighborhood group\n",
    "num_listings_group = \"\"\"SELECT G.group_name, COUNT(l.id) as num_listings \n",
    "FROM listings L \n",
    "JOIN neighborhoodgroups G on L.neighbourhood_group_id = G.group_id\n",
    "GROUP BY G.group_name \n",
    "ORDER BY num_listings DESC\"\"\"\n",
    "\n",
    "# neighborhood vs price\n",
    "price_nh = \"\"\"SELECT N.neighbourhood, L.price \n",
    "FROM listings L \n",
    "JOIN Neighborhoods N on L.neighbourhood_id = N.neighborhood_id \n",
    "WHERE L.price IS NOT NULL \n",
    "ORDER BY L.price DESC\"\"\"\n"
   ]
  },
  {
   "cell_type": "code",
   "execution_count": 6,
   "id": "86aaa7bf",
   "metadata": {},
   "outputs": [],
   "source": [
    "# Listing centered queries\n",
    "#average price of room types\n",
    "avg_price_room = \"\"\"SELECT L.room_type, AVG(L.price) as avg_price \n",
    "FROM Listings L \n",
    "GROUP BY L.room_type \n",
    "ORDER BY avg_price DESC\"\"\"\n",
    "\n",
    "nh_room_type = \"\"\"SELECT L.room_type, L.price, N.neighbourhood \n",
    "FROM Listings L \n",
    "JOIN Neighborhoods N on L.neighbourhood_id = N.neighborhood_id \n",
    "WHERE L.price IS NOT NULL\"\"\"\n",
    "\n",
    "# availability vs number_of_reviews\n",
    "avail_num_reviews = \"\"\"SELECT availability_365, number_of_reviews \n",
    "FROM Listings L \n",
    "ORDER BY number_of_reviews DESC\"\"\"\n",
    "\n",
    "# top 100 listings (income) and their attributes\n",
    "top_listings = \"\"\"SELECT L.*, G.group_name, N.neighbourhood, (L.price * COALESCE(L.number_of_reviews_ltm,0)) as est_annual_income\n",
    "FROM Listings L \n",
    "JOIN neighborhoodgroups G on L.neighbourhood_group_id = G.group_id \n",
    "JOIN Neighborhoods N on L.neighbourhood_id = N.neighborhood_id \n",
    "WHERE L.price IS NOT NULL \n",
    "    AND L.reviews_per_month IS NOT NULL\n",
    "ORDER BY est_annual_income DESC\n",
    "LIMIT 100\"\"\"\n",
    "\n",
    "# top 50 most reviewed listing and their reviews (dates)\n",
    "top_reviewed_listing = \"\"\"WITH top_listings AS (\n",
    "SELECT id \n",
    "FROM Listings \n",
    "WHERE reviews_per_month IS NOT NULL \n",
    "ORDER BY reviews_per_month DESC \n",
    "LIMIT 100)\n",
    "SELECT L.id, L.reviews_per_month, R.date \n",
    "FROM top_listings T \n",
    "JOIN Reviews R on T.id = R.listing_id \n",
    "JOIN Listings L on L.id = R.listing_id \n",
    "ORDER BY L.reviews_per_month DESC, R.date\n",
    "\"\"\"\n"
   ]
  },
  {
   "cell_type": "code",
   "execution_count": 7,
   "id": "714db659",
   "metadata": {},
   "outputs": [],
   "source": [
    "price_group_df = execute_query(price_group)\n",
    "num_listings_group_df = execute_query(num_listings_group)\n",
    "price_nh_df = execute_query(price_nh)\n",
    "nh_room_type_df = execute_query(nh_room_type)\n",
    "avg_price_room_df = execute_query(avg_price_room)\n",
    "avail_num_reviews_df = execute_query(avail_num_reviews)\n",
    "top_listings_df = execute_query(top_listings)\n",
    "top_reviewed_listing_df = execute_query(top_reviewed_listing)\n",
    "\n"
   ]
  },
  {
   "cell_type": "markdown",
   "id": "e24bc9c0",
   "metadata": {},
   "source": [
    "### Data Wrangling\n"
   ]
  },
  {
   "cell_type": "code",
   "execution_count": 8,
   "id": "79640fa2",
   "metadata": {},
   "outputs": [],
   "source": [
    "#handle missing data\n",
    "def missing_data(df, drop_cols=None, fill_cols=None, encode_cols=None, drop_na_cols=None):\n",
    "    \"\"\"\n",
    "    drop_cols: list : columns to be dropped\n",
    "    fill_cols: dict: {col: col to be filled, value: filling value}\n",
    "    encode_cols: list: columns to be one hot encoded\n",
    "    drop_na_cols: list: columns with na to be dropped\n",
    "    \"\"\"\n",
    "    cleaned_df = df.copy()\n",
    "    if drop_cols:\n",
    "        existing_drop_cols = [col for col in drop_cols if col in cleaned_df.columns]\n",
    "        if existing_drop_cols in cleaned_df.columns:\n",
    "            cleaned_df.drop(columns=existing_drop_cols)\n",
    "\n",
    "    if fill_cols:\n",
    "        for col, value, in fill_cols.items():\n",
    "            if col in cleaned_df.columns:\n",
    "                cleaned_df[col] = cleaned_df[col].fillna(value)\n",
    "\n",
    "    if encode_cols:\n",
    "        existing_encode_cols = [col for col in encode_cols if col in cleaned_df.columns]\n",
    "        if existing_encode_cols:\n",
    "            cleaned_df = pd.get_dummies(cleaned_df, columns = existing_encode_cols)\n",
    "    if drop_na_cols:\n",
    "        existing_dropna_cols = [col for col in drop_na_cols if col in cleaned_df.columns]\n",
    "        if existing_dropna_cols:\n",
    "            cleaned_df[drop_na_cols].dropna(subset=existing_dropna_cols)\n",
    "    return cleaned_df\n"
   ]
  },
  {
   "cell_type": "code",
   "execution_count": 9,
   "id": "c2a28eaa",
   "metadata": {},
   "outputs": [],
   "source": [
    "fill_cols = {\n",
    "    'number_of_reviews' : 0,\n",
    "    'minimum_nights' : 1,\n",
    "    'reviews_per_month' : 0,\n",
    "    'calculated_host_listings_count' : 1,\n",
    "    'availability_365' : 0,\n",
    "    'number_of_reviews_ltm' : 0\n",
    "}\n",
    "encode_cols = ['room_type']\n",
    "drop_na_cols = ['price']"
   ]
  },
  {
   "cell_type": "code",
   "execution_count": 10,
   "id": "854e2594",
   "metadata": {},
   "outputs": [],
   "source": [
    "\n",
    "price_group_df_clean = missing_data(price_group_df, drop_cols=None, fill_cols=fill_cols, encode_cols=encode_cols, drop_na_cols=drop_na_cols)\n",
    "num_listings_group_df_clean = missing_data(num_listings_group_df, drop_cols=None, fill_cols=fill_cols, encode_cols=encode_cols, drop_na_cols=drop_na_cols)\n",
    "price_nh_df_clean = missing_data(price_nh_df, drop_cols=None, fill_cols=fill_cols, encode_cols=encode_cols, drop_na_cols=drop_na_cols)\n",
    "nh_room_type_df_clean = missing_data(nh_room_type_df, drop_cols=None, fill_cols=fill_cols, encode_cols=encode_cols, drop_na_cols=drop_na_cols)\n",
    "avg_price_room_df_clean = missing_data(avg_price_room_df, drop_cols=None, fill_cols=fill_cols, encode_cols=encode_cols, drop_na_cols=drop_na_cols)\n",
    "avail_num_reviews_df_clean = missing_data(avail_num_reviews_df, drop_cols=None, fill_cols=fill_cols, encode_cols=encode_cols, drop_na_cols=drop_na_cols)\n",
    "top_listings_df_clean = missing_data(top_listings_df, drop_cols=None, fill_cols=fill_cols, encode_cols=encode_cols, drop_na_cols=drop_na_cols)\n",
    "top_reviewed_listing_df_clean = missing_data(top_reviewed_listing_df, drop_cols=None, fill_cols=fill_cols, encode_cols=encode_cols, drop_na_cols=drop_na_cols)\n"
   ]
  },
  {
   "cell_type": "markdown",
   "id": "97e44df3",
   "metadata": {},
   "source": [
    "### EDA\n"
   ]
  },
  {
   "cell_type": "code",
   "execution_count": null,
   "id": "6b226376",
   "metadata": {},
   "outputs": [],
   "source": [
    "def summarize(df, vars):\n",
    "    return df[vars].describe()\n",
    "\n",
    "def plot_distribution(df, vars, bins):\n",
    "    sns.histplot(df[vars], bins = bins)\n",
    "    plt.title(f\"Distribution of {df}\")\n",
    "    plt.show()"
   ]
  },
  {
   "cell_type": "code",
   "execution_count": 12,
   "id": "474138ea",
   "metadata": {},
   "outputs": [
    {
     "name": "stdout",
     "output_type": "stream",
     "text": [
      "                 id       host_id  neighbourhood_group_id  neighbourhood_id  \\\n",
      "count  1.000000e+02  1.000000e+02              100.000000        100.000000   \n",
      "mean   6.665545e+17  1.872576e+08                8.610000         42.860000   \n",
      "std    4.662752e+17  1.926233e+08                4.256653         25.282253   \n",
      "min    7.578400e+05  6.399720e+05                1.000000          5.000000   \n",
      "25%    5.304603e+07  2.511016e+07                5.000000         22.250000   \n",
      "50%    8.552378e+17  8.265813e+07                7.000000         34.000000   \n",
      "75%    1.062453e+18  3.145216e+08               13.000000         71.000000   \n",
      "max    1.277875e+18  5.906735e+08               17.000000         89.000000   \n",
      "\n",
      "         latitude   longitude         price  minimum_nights  \\\n",
      "count  100.000000  100.000000    100.000000      100.000000   \n",
      "mean    47.622824 -122.339633   4721.650000        2.030000   \n",
      "std      0.030726    0.024405  13677.500102        4.073702   \n",
      "min     47.520119 -122.416275    156.000000        1.000000   \n",
      "25%     47.608274 -122.351681    276.750000        1.000000   \n",
      "50%     47.620446 -122.339007    417.500000        1.000000   \n",
      "75%     47.636785 -122.322853    663.500000        2.000000   \n",
      "max     47.691804 -122.275069  50034.000000       30.000000   \n",
      "\n",
      "       number_of_reviews  reviews_per_month  calculated_host_listings_count  \\\n",
      "count         100.000000         100.000000                      100.000000   \n",
      "mean          211.670000           6.368200                        7.740000   \n",
      "std           200.125368           7.761255                       10.816766   \n",
      "min             1.000000           0.130000                        1.000000   \n",
      "25%            79.500000           3.360000                        1.000000   \n",
      "50%           154.000000           5.320000                        3.000000   \n",
      "75%           245.000000           7.517500                       12.000000   \n",
      "max           965.000000          64.910000                       70.000000   \n",
      "\n",
      "       availability_365  number_of_reviews_ltm  est_annual_income  \n",
      "count        100.000000             100.000000         100.000000  \n",
      "mean         213.250000              82.840000       36791.150000  \n",
      "std          107.364608              87.963689       33086.282602  \n",
      "min            3.000000               1.000000       22099.000000  \n",
      "25%          103.750000              43.000000       24181.500000  \n",
      "50%          244.000000              65.500000       27653.500000  \n",
      "75%          313.750000              97.750000       34554.000000  \n",
      "max          355.000000             682.000000      300000.000000  \n"
     ]
    }
   ],
   "source": [
    "summary_top_listings = summarize(top_listings_df_clean, top_listings_df_clean.columns)\n",
    "print(summary_top_listings)"
   ]
  },
  {
   "cell_type": "code",
   "execution_count": 14,
   "id": "1e32b035",
   "metadata": {},
   "outputs": [
    {
     "data": {
      "image/png": "[encoded data removed]",
      "text/plain": [
       "<Figure size 640x480 with 1 Axes>"
      ]
     },
     "metadata": {},
     "output_type": "display_data"
    }
   ],
   "source": [
    "# plots of distribution of data\n",
    "plot_distribution(top_listings_df_clean, top_listings_df_clean.columns, bins = 100)\n",
    "plot_distribution(top_reviewed_listing_df_clean, top_reviewed_listing_df_clean.columns, bins = 50)\n",
    "plt.show()\n"
   ]
  }
 ],
 "metadata": {
  "kernelspec": {
   "display_name": "Python 3",
   "language": "python",
   "name": "python3"
  },
  "language_info": {
   "codemirror_mode": {
    "name": "ipython",
    "version": 3
   },
   "file_extension": ".py",
   "mimetype": "text/x-python",
   "name": "python",
   "nbconvert_exporter": "python",
   "pygments_lexer": "ipython3",
   "version": "3.9.13"
  }
 },
 "nbformat": 4,
 "nbformat_minor": 5
}
